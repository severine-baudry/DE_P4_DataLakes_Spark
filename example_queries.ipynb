{
 "cells": [
  {
   "cell_type": "code",
   "execution_count": null,
   "metadata": {
    "editable": true
   },
   "outputs": [],
   "source": [
    "from pyspark.sql import SparkSession\n",
    "import os\n",
    "import configparser\n",
    "import pyspark.sql.functions as F\n",
    "from pyspark.sql.functions import col, udf\n",
    "from pyspark.sql.types import IntegerType, StringType"
   ]
  },
  {
   "cell_type": "markdown",
   "metadata": {
    "editable": true
   },
   "source": [
    "# Start spark session"
   ]
  },
  {
   "cell_type": "code",
   "execution_count": null,
   "metadata": {
    "editable": true
   },
   "outputs": [],
   "source": [
    "spark = SparkSession.builder\\\n",
    "                     .config(\"spark.jars.packages\",\"org.apache.hadoop:hadoop-aws:2.7.0\")\\\n",
    "                     .getOrCreate()"
   ]
  },
  {
   "cell_type": "markdown",
   "metadata": {
    "editable": true
   },
   "source": [
    "# Read data from Parquet"
   ]
  },
  {
   "cell_type": "code",
   "execution_count": null,
   "metadata": {
    "editable": true
   },
   "outputs": [],
   "source": [
    "# enter your database path here\n",
    "# Exemple : \n",
    "# S3 bucket : db_path = \"s3a://mybucket/mydir\"\n",
    "# HDFS directory : db_path = \"HDFS:///user/mydir\"\n",
    "db_path = \"./OUT/\""
   ]
  },
  {
   "cell_type": "code",
   "execution_count": null,
   "metadata": {
    "editable": true
   },
   "outputs": [],
   "source": [
    "df_artists = spark.read.parquet( os.path.join(db_path, \"OUT/ARTISTS\") )\n",
    "df_songs = spark.read.parquet(os.path.join(db_path, \"SONGS\"))\n",
    "df_users = spark.read.parquet(os.path.join(db_path, \"USERS/\"))\n",
    "df_timestamps = spark.read.parquet(os.path.join(db_path,\"TIMESTAMPS/\") )\n",
    "df_songplays = spark.read.parquet(os.path.join(db_path, \"SONGPLAYS/\" ) )"
   ]
  },
  {
   "cell_type": "markdown",
   "metadata": {
    "editable": true
   },
   "source": [
    "## Number of rows per table"
   ]
  },
  {
   "cell_type": "code",
   "execution_count": null,
   "metadata": {
    "editable": true
   },
   "outputs": [],
   "source": [
    "print(\"artists :\", df_artists.count())\n",
    "print(\"songs :\", df_songs.count())\n",
    "print(\"users :\", df_users.count())\n",
    "print(\"timestamps :\", df_timestamps.count())\n",
    "print(\"songplays :\", df_songplays.count())"
   ]
  },
  {
   "cell_type": "markdown",
   "metadata": {
    "editable": true
   },
   "source": [
    "## Database schemas"
   ]
  },
  {
   "cell_type": "code",
   "execution_count": null,
   "metadata": {
    "editable": true
   },
   "outputs": [],
   "source": [
    "print(\"Artists schema :\")\n",
    "df_artists.printSchema()\n",
    "print(\"Songs schema :\")\n",
    "df_songs.printSchema()\n",
    "print(\"Users schema :\")\n",
    "df_users.printSchema()\n",
    "print(\"Timestamps schema :\")\n",
    "df_timestamps.printSchema()\n",
    "print(\"Songplays schema :\")\n",
    "df_songplays.printSchema()"
   ]
  },
  {
   "cell_type": "markdown",
   "metadata": {
    "editable": true
   },
   "source": [
    "# Example queries"
   ]
  },
  {
   "cell_type": "markdown",
   "metadata": {
    "editable": true
   },
   "source": [
    "## Artists with most songs"
   ]
  },
  {
   "cell_type": "code",
   "execution_count": null,
   "metadata": {
    "editable": true
   },
   "outputs": [],
   "source": [
    "df_songs.join(df_artists, df_songs[\"artist_id\"] == df_artists[\"artist_id\"])\\\n",
    "    .groupBy(df_artists[\"artist_id\"], \"name\")\\\n",
    "    .count()\\\n",
    "    .orderBy(\"count\", \"name\", ascending = [False, True])\\\n",
    "    .select(col(\"name\").alias(\"artist name\"), \"count\")\\\n",
    "    .limit(10)\\\n",
    "    .toPandas()\n"
   ]
  },
  {
   "cell_type": "markdown",
   "metadata": {
    "editable": true
   },
   "source": [
    "## Biggest song consumers"
   ]
  },
  {
   "cell_type": "code",
   "execution_count": null,
   "metadata": {
    "editable": true
   },
   "outputs": [],
   "source": [
    "df_songplays.join(df_users, df_songplays[\"user_id\"] == df_users[\"user_id\"])\\\n",
    "    .groupBy(df_users[\"user_id\"], \"first_name\", \"last_name\")\\\n",
    "    .count()\\\n",
    "    .orderBy(col(\"count\").desc(), col(\"last_name\").asc() )\\\n",
    "    .select(\"first_name\", \"last_name\", \"count\")\\\n",
    "    .limit(10)\\\n",
    "    .toPandas()"
   ]
  },
  {
   "cell_type": "markdown",
   "metadata": {
    "editable": true
   },
   "source": [
    "## Average usage per week day"
   ]
  },
  {
   "cell_type": "code",
   "execution_count": null,
   "metadata": {
    "editable": true
   },
   "outputs": [],
   "source": [
    "import calendar\n",
    "list(calendar.day_name)"
   ]
  },
  {
   "cell_type": "code",
   "execution_count": null,
   "metadata": {
    "editable": true
   },
   "outputs": [],
   "source": [
    "@udf(returnType= StringType())\n",
    "def weekdaynumToName(daynum):\n",
    "    '''\n",
    "    convert the day of week number (0 to 6) to name (\"Monday\" -> \"Sunday\")\n",
    "    '''\n",
    "    return calendar.day_name[daynum]"
   ]
  },
  {
   "cell_type": "code",
   "execution_count": null,
   "metadata": {
    "editable": true
   },
   "outputs": [],
   "source": [
    "# drop columns year and months from songplays (duplicate from timestamps)\n",
    "# and join on ts (start time of songplay)\n",
    "join_plays_timestamps = df_songplays.withColumnRenamed(\"start_time\", \"ts\")\\\n",
    "        .drop(\"year\", \"month\")\\\n",
    "        .join(df_timestamps, [\"ts\"])\n",
    "join_plays_timestamps.printSchema()"
   ]
  },
  {
   "cell_type": "code",
   "execution_count": null,
   "metadata": {
    "editable": true
   },
   "outputs": [],
   "source": [
    "# nb of distinct dates for a given weekday in the database\n",
    "num_weeks = join_plays_timestamps \\\n",
    "        .select(\"weekday\", \"year\", \"month\", \"day\")\\\n",
    "        .groupBy(\"weekday\")\\\n",
    "        .agg( F.countDistinct(\"year\", \"month\",\"day\"))\\\n",
    "        .orderBy(\"weekday\")\\\n",
    "        .select(weekdaynumToName(\"weekday\").alias(\"week day\"))\\\n",
    "        .toPandas()\n",
    "    \n",
    "join_plays_timestamps.groupBy(df_timestamps[\"weekday\"])\\\n",
    "    .count()\\\n",
    "    .orderBy(\"weekday\")\\\n",
    "    .select(weekdaynumToName(\"weekday\").alias(\"week day\"), \"count\")\\\n",
    "    .toPandas()\n",
    "    "
   ]
  },
  {
   "cell_type": "markdown",
   "metadata": {
    "editable": true
   },
   "source": [
    "## Percentage of songs in the database that the users listen"
   ]
  },
  {
   "cell_type": "code",
   "execution_count": null,
   "metadata": {
    "editable": true
   },
   "outputs": [],
   "source": [
    "nb_songs = df_songs.count()\n",
    "nb_songplays = df_songplays.select(\"song_id\").distinct().count()\n",
    "print(\"Percentage of songs in the database which are listened to :\", \n",
    "      100.*nb_songplays/nb_songs)"
   ]
  },
  {
   "cell_type": "code",
   "execution_count": null,
   "metadata": {
    "editable": true
   },
   "outputs": [],
   "source": []
  }
 ],
 "metadata": {
  "kernelspec": {
   "display_name": "Python 3",
   "language": "python",
   "name": "python3"
  },
  "language_info": {
   "codemirror_mode": {
    "name": "ipython",
    "version": 3
   },
   "file_extension": ".py",
   "mimetype": "text/x-python",
   "name": "python",
   "nbconvert_exporter": "python",
   "pygments_lexer": "ipython3",
   "version": "3.6.3"
  }
 },
 "nbformat": 4,
 "nbformat_minor": 4
}
