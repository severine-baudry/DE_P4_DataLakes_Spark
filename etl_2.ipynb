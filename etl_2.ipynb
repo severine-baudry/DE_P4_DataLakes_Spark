{
 "cells": [
  {
   "cell_type": "code",
   "execution_count": null,
   "metadata": {
    "editable": true
   },
   "outputs": [],
   "source": [
    "import configparser\n",
    "from datetime import datetime\n",
    "import os\n",
    "from pyspark.sql import SparkSession\n",
    "from pyspark.sql.functions import udf, col, monotonically_increasing_id\n",
    "from pyspark.sql.functions import year, month, dayofmonth, hour, weekofyear, dayofweek, date_format, from_unixtime\n",
    "from pyspark.sql.types import LongType"
   ]
  },
  {
   "cell_type": "code",
   "execution_count": null,
   "metadata": {
    "editable": true
   },
   "outputs": [],
   "source": [
    "config = configparser.ConfigParser()\n",
    "config.read('dl.cfg')"
   ]
  },
  {
   "cell_type": "code",
   "execution_count": null,
   "metadata": {
    "editable": true
   },
   "outputs": [],
   "source": [
    "os.environ['AWS_ACCESS_KEY_ID']=config['AWS']['ACCESS_KEY_ID']\n",
    "os.environ['AWS_SECRET_ACCESS_KEY']=config['AWS']['SECRET_ACCESS_KEY']"
   ]
  },
  {
   "cell_type": "code",
   "execution_count": null,
   "metadata": {
    "editable": true
   },
   "outputs": [],
   "source": [
    "def create_spark_session():\n",
    "    spark = SparkSession \\\n",
    "        .builder \\\n",
    "        .config(\"spark.jars.packages\", \"org.apache.hadoop:hadoop-aws:2.7.0\") \\\n",
    "        .getOrCreate()\n",
    "    return spark"
   ]
  },
  {
   "cell_type": "code",
   "execution_count": null,
   "metadata": {
    "editable": true
   },
   "outputs": [],
   "source": [
    "def process_song_data(spark, input_data, output_data):\n",
    "    # get filepath to song data file\n",
    "    # assumes songs are stored in a tree hierarchy input_data/<X>/<Y>/<Z>\n",
    "    # with <XYZ> being the 1st 3 letters of the song track ID\n",
    "    # X,Y,Z can be A,B or C\n",
    "    song_data = os.path.join(input_data, \"{A,B,C}\",\"{A,B,C}\",\"{A,B,C}\")\n",
    "    \n",
    "    # read song data file\n",
    "    df = spark.read.json(song_data)\n",
    "\n",
    "    # extract columns to create songs table\n",
    "    songs_table = df.select(\"song_id\", \n",
    "                      \"title\", \n",
    "                      \"artist_id\", \n",
    "                      \"year\", \n",
    "                      \"duration\")\n",
    "    \n",
    "    # write songs table to parquet files partitioned by year and artist\n",
    "    out_song = os.path.join(output_data, \"SONG\")\n",
    "    songs_table.write.partitionBy(\"year\", \"artist_id\").mode(\"overwrite\").parquet(out_song)\n",
    "\n",
    "    # extract columns to create artists table\n",
    "    artists_table = df.select(\"artist_id\", \n",
    "                        col(\"artist_name\").alias(\"name\"),\n",
    "                        col(\"artist_location\").alias(\"location\"),\n",
    "                        col(\"artist_latitude\").alias(\"latitude\"),\n",
    "                        col(\"artist_longitude\").alias(\"longitude\") \n",
    "                    ).distinct()\n",
    "    \n",
    "    # write artists table to parquet files\n",
    "    out_artist = os.path.join(output_data, \"ARTIST\")\n",
    "    artists_table.write.mode(\"overwrite\").parquet(out_artist)"
   ]
  },
  {
   "cell_type": "code",
   "execution_count": null,
   "metadata": {
    "editable": true
   },
   "outputs": [],
   "source": [
    "def process_log_data(spark, input_data, output_data):\n",
    "    # get filepath to log data file\n",
    "    log_data = os.path.join(input_data, \"log_data\")\n",
    "\n",
    "    # read log data file\n",
    "    df = spark.read.json(log_data)\n",
    "    \n",
    "    # filter by actions for song plays\n",
    "    df = df.filter(\"page != 'NextSong' \")\n",
    "\n",
    "    # extract columns for users table    \n",
    "    users_table = df.select(\"userId\", \n",
    "                         \"firstName\", \n",
    "                         \"lastName\", \n",
    "                         \"gender\", \n",
    "                         \"level\")\\\n",
    "                    .distinct()\n",
    "    # rename columns and cast user id to int\n",
    "    users_table = users_table.select( col(\"userId\").cast(\"long\").alias(\"user_id\"),\n",
    "                          col(\"firstName\").alias(\"first_name\"),\n",
    "                          col(\"lastName\").alias(\"last_name\"),\n",
    "                          \"gender\",\n",
    "                          \"level\"\n",
    "                          )\\\n",
    "                .orderBy(\"user_id\")\n",
    "    \n",
    "    # write users table to parquet files\n",
    "    out_users = os.path.join(output_data, \"USERS\")\n",
    "    users_table.write.mode(\"overwrite\").parquet(out_users)\n",
    "\n",
    "    # create timestamp column from original timestamp column\n",
    "    get_timestamp = udf(lambda x : int(x / 1000.), LongType() )\n",
    "    df = df.withColumn(\"timestamp\", get_timestamp(\"ts\"))\n",
    "    \n",
    "    # create datetime column from original timestamp column\n",
    "    #get_datetime = udf()\n",
    "    df = df.withColumn(\"datetime\", from_unixtime(\"timestamp\"))\n",
    "    \n",
    "    # extract columns to create time table\n",
    "    time_table = df.select(\"ts\", \"datetime\")\\\n",
    "            .withColumn(\"hour\", hour(\"datetime\"))\\\n",
    "            .withColumn(\"day\", dayofmonth(\"datetime\"))\\\n",
    "            .withColumn(\"week\", weekofyear(\"datetime\"))\\\n",
    "            .withColumn(\"month\", month(\"datetime\"))\\\n",
    "            .withColumn(\"year\", year(\"datetime\"))\\\n",
    "            .withColumn(\"weekday\", dayofweek(\"datetime\"))\\\n",
    "            .distinct()\n",
    "    time_table = time_table.drop(\"datetime\")\n",
    "\n",
    "    # write time table to parquet files partitioned by year and month\n",
    "    out_time = os.path.join(output_data, \"TIMESTAMP\")\n",
    "    time_table.write.partitionBy(\"year\", \"month\").mode(\"overwrite\").parquet(out_time)\n",
    "\n",
    "    # read in song data to use for songplays table\n",
    "    song_db = os.path.join(output_data, \"SONG\")\n",
    "    song_df = spark.read.parquet(song_db)\n",
    "    \n",
    "    df.createOrReplaceTempView(\"lg\")\n",
    "    song_df.createOrReplaceTempView(\"sg\")\n",
    "    time_table.createOrReplaceTempView(\"tm\")\n",
    "    # extract columns from joined song and log datasets to create songplays table \n",
    "    songplays_table = spark.sql(\"\"\"\n",
    "    SELECT lg.ts AS start_time,\n",
    "        tm.year AS year,\n",
    "        tm.month AS month,\n",
    "        lg.userId AS user_id,\n",
    "        lg.level,\n",
    "        sg.song_id,\n",
    "        sg.artist_id,\n",
    "        lg.sessionId AS session_id,\n",
    "        lg.location,\n",
    "        lg.userAgent AS user_agent    \n",
    "    FROM lg\n",
    "    JOIN sg ON sg.title = lg.song\n",
    "    JOIN tm ON tm.ts = lg.ts\n",
    "    \"\"\")\n",
    "    songplays_table = songplays_table.withColumn(\"songplay_id\", monotonically_increasing_id())\n",
    "    rearrange_col = songplays_table.schema.names[:]\n",
    "    rearrange_col.insert( 0, \"songplay_id\")\n",
    "    rearrange_col.pop()\n",
    "    songplays_table = songplays_table.select(*rearrange_col)\n",
    "    print(\"COUNT SONGPLAYS\", songplays_table.count())\n",
    "    \n",
    "    # write songplays table to parquet files partitioned by year and month\n",
    "    out_songplay = os.path.join(output_data, \"SONGPLAYS\")\n",
    "    songplays_table.write.partitionBy(\"year\", \"month\").mode(\"overwrite\").parquet(out_songplay)\n",
    "    "
   ]
  },
  {
   "cell_type": "code",
   "execution_count": null,
   "metadata": {
    "editable": true
   },
   "outputs": [],
   "source": [
    "def main():\n",
    "    spark = create_spark_session()\n",
    "    input_data = \"s3a://udacity-dend/\"\n",
    "    output_data = \"\"\n",
    "    \n",
    "    process_song_data(spark, input_data, output_data)    \n",
    "    process_log_data(spark, input_data, output_data)"
   ]
  },
  {
   "cell_type": "code",
   "execution_count": null,
   "metadata": {
    "editable": true
   },
   "outputs": [],
   "source": [
    "def main_1():\n",
    "    spark = create_spark_session()\n",
    "    input_data = \"song_data\"\n",
    "    output_data=\"OUT\"\n",
    "    \n",
    "    process_song_data(spark, input_data, output_data) \n",
    "    with open(\"process_song.txt\", \"a\") as f:\n",
    "        f.write(\"process\")\n",
    "    input_data = \"./\"\n",
    "    process_log_data(spark, input_data, output_data)\n",
    "    \n",
    "if __name__ == \"__main__\":\n",
    "    main_1()"
   ]
  }
 ],
 "metadata": {
  "kernelspec": {
   "display_name": "Python 3",
   "language": "python",
   "name": "python3"
  },
  "language_info": {
   "codemirror_mode": {
    "name": "ipython",
    "version": 3
   },
   "file_extension": ".py",
   "mimetype": "text/x-python",
   "name": "python",
   "nbconvert_exporter": "python",
   "pygments_lexer": "ipython3",
   "version": "3.6.3"
  }
 },
 "nbformat": 4,
 "nbformat_minor": 4
}
