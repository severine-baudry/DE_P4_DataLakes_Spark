{
 "cells": [
  {
   "cell_type": "code",
   "execution_count": 1,
   "metadata": {
    "editable": true
   },
   "outputs": [],
   "source": [
    "from pyspark.sql import SparkSession\n",
    "import os\n",
    "import configparser"
   ]
  },
  {
   "cell_type": "code",
   "execution_count": 2,
   "metadata": {
    "editable": true
   },
   "outputs": [],
   "source": [
    "spark = SparkSession.builder\\\n",
    "                     .config(\"spark.jars.packages\",\"org.apache.hadoop:hadoop-aws:2.7.0\")\\\n",
    "                     .getOrCreate()"
   ]
  },
  {
   "cell_type": "code",
   "execution_count": 4,
   "metadata": {
    "editable": true
   },
   "outputs": [
    {
     "name": "stdout",
     "output_type": "stream",
     "text": [
      "log-data.zip  song-data.zip\n"
     ]
    }
   ],
   "source": [
    "%ls data"
   ]
  },
  {
   "cell_type": "code",
   "execution_count": 6,
   "metadata": {
    "editable": true
   },
   "outputs": [
    {
     "name": "stdout",
     "output_type": "stream",
     "text": [
      "Archive:  data/song-data.zip\n",
      "   creating: song_data/\n",
      "  inflating: song_data/.DS_Store     \n",
      "   creating: song_data/A/\n",
      "  inflating: song_data/A/.DS_Store   \n",
      "   creating: song_data/A/A/\n",
      "  inflating: song_data/A/A/.DS_Store  \n",
      "   creating: song_data/A/A/A/\n",
      "  inflating: song_data/A/A/A/TRAAAAW128F429D538.json  \n",
      "  inflating: song_data/A/A/A/TRAAABD128F429CF47.json  \n",
      "  inflating: song_data/A/A/A/TRAAADZ128F9348C2E.json  \n",
      "  inflating: song_data/A/A/A/TRAAAEF128F4273421.json  \n",
      "  inflating: song_data/A/A/A/TRAAAFD128F92F423A.json  \n",
      "  inflating: song_data/A/A/A/TRAAAMO128F1481E7F.json  \n",
      "  inflating: song_data/A/A/A/TRAAAMQ128F1460CD3.json  \n",
      "  inflating: song_data/A/A/A/TRAAAPK128E0786D96.json  \n",
      "  inflating: song_data/A/A/A/TRAAARJ128F9320760.json  \n",
      "  inflating: song_data/A/A/A/TRAAAVG12903CFA543.json  \n",
      "  inflating: song_data/A/A/A/TRAAAVO128F93133D4.json  \n",
      "   creating: song_data/A/A/B/\n",
      "  inflating: song_data/A/A/B/TRAABCL128F4286650.json  \n",
      "  inflating: song_data/A/A/B/TRAABDL12903CAABBA.json  \n",
      "  inflating: song_data/A/A/B/TRAABJL12903CDCF1A.json  \n",
      "  inflating: song_data/A/A/B/TRAABJV128F1460C49.json  \n",
      "  inflating: song_data/A/A/B/TRAABLR128F423B7E3.json  \n",
      "  inflating: song_data/A/A/B/TRAABNV128F425CEE1.json  \n",
      "  inflating: song_data/A/A/B/TRAABRB128F9306DD5.json  \n",
      "  inflating: song_data/A/A/B/TRAABVM128F92CA9DC.json  \n",
      "  inflating: song_data/A/A/B/TRAABXG128F9318EBD.json  \n",
      "  inflating: song_data/A/A/B/TRAABYN12903CFD305.json  \n",
      "  inflating: song_data/A/A/B/TRAABYW128F4244559.json  \n",
      "   creating: song_data/A/A/C/\n",
      "  inflating: song_data/A/A/C/TRAACCG128F92E8A55.json  \n",
      "  inflating: song_data/A/A/C/TRAACER128F4290F96.json  \n",
      "  inflating: song_data/A/A/C/TRAACFV128F935E50B.json  \n",
      "  inflating: song_data/A/A/C/TRAACHN128F1489601.json  \n",
      "  inflating: song_data/A/A/C/TRAACIW12903CC0F6D.json  \n",
      "  inflating: song_data/A/A/C/TRAACLV128F427E123.json  \n",
      "  inflating: song_data/A/A/C/TRAACNS128F14A2DF5.json  \n",
      "  inflating: song_data/A/A/C/TRAACOW128F933E35F.json  \n",
      "  inflating: song_data/A/A/C/TRAACPE128F421C1B9.json  \n",
      "  inflating: song_data/A/A/C/TRAACQT128F9331780.json  \n",
      "  inflating: song_data/A/A/C/TRAACSL128F93462F4.json  \n",
      "  inflating: song_data/A/A/C/TRAACTB12903CAAF15.json  \n",
      "  inflating: song_data/A/A/C/TRAACVS128E078BE39.json  \n",
      "  inflating: song_data/A/A/C/TRAACZK128F4243829.json  \n",
      "   creating: song_data/A/B/\n",
      "  inflating: song_data/A/B/.DS_Store  \n",
      "   creating: song_data/A/B/A/\n",
      "  inflating: song_data/A/B/A/TRABACN128F425B784.json  \n",
      "  inflating: song_data/A/B/A/TRABAFJ128F42AF24E.json  \n",
      "  inflating: song_data/A/B/A/TRABAFP128F931E9A1.json  \n",
      "  inflating: song_data/A/B/A/TRABAIO128F42938F9.json  \n",
      "  inflating: song_data/A/B/A/TRABATO128F42627E9.json  \n",
      "  inflating: song_data/A/B/A/TRABAVQ12903CBF7E0.json  \n",
      "  inflating: song_data/A/B/A/TRABAWW128F4250A31.json  \n",
      "  inflating: song_data/A/B/A/TRABAXL128F424FC50.json  \n",
      "  inflating: song_data/A/B/A/TRABAXR128F426515F.json  \n",
      "  inflating: song_data/A/B/A/TRABAXV128F92F6AE3.json  \n",
      "  inflating: song_data/A/B/A/TRABAZH128F930419A.json  \n",
      "   creating: song_data/A/B/B/\n",
      "  inflating: song_data/A/B/B/TRABBAM128F429D223.json  \n",
      "  inflating: song_data/A/B/B/TRABBBV128F42967D7.json  \n",
      "  inflating: song_data/A/B/B/TRABBJE12903CDB442.json  \n",
      "  inflating: song_data/A/B/B/TRABBKX128F4285205.json  \n",
      "  inflating: song_data/A/B/B/TRABBLU128F93349CF.json  \n",
      "  inflating: song_data/A/B/B/TRABBNP128F932546F.json  \n",
      "  inflating: song_data/A/B/B/TRABBOP128F931B50D.json  \n",
      "  inflating: song_data/A/B/B/TRABBOR128F4286200.json  \n",
      "  inflating: song_data/A/B/B/TRABBTA128F933D304.json  \n",
      "  inflating: song_data/A/B/B/TRABBVJ128F92F7EAA.json  \n",
      "  inflating: song_data/A/B/B/TRABBXU128F92FEF48.json  \n",
      "  inflating: song_data/A/B/B/TRABBZN12903CD9297.json  \n",
      "   creating: song_data/A/B/C/\n",
      "  inflating: song_data/A/B/C/TRABCAJ12903CDFCC2.json  \n",
      "  inflating: song_data/A/B/C/TRABCEC128F426456E.json  \n",
      "  inflating: song_data/A/B/C/TRABCEI128F424C983.json  \n",
      "  inflating: song_data/A/B/C/TRABCFL128F149BB0D.json  \n",
      "  inflating: song_data/A/B/C/TRABCIX128F4265903.json  \n",
      "  inflating: song_data/A/B/C/TRABCKL128F423A778.json  \n",
      "  inflating: song_data/A/B/C/TRABCPZ128F4275C32.json  \n",
      "  inflating: song_data/A/B/C/TRABCRU128F423F449.json  \n",
      "  inflating: song_data/A/B/C/TRABCTK128F934B224.json  \n",
      "  inflating: song_data/A/B/C/TRABCUQ128E0783E2B.json  \n",
      "  inflating: song_data/A/B/C/TRABCXB128F4286BD3.json  \n",
      "  inflating: song_data/A/B/C/TRABCYE128F934CE1D.json  \n"
     ]
    }
   ],
   "source": [
    "!unzip data/song-data.zip"
   ]
  },
  {
   "cell_type": "code",
   "execution_count": 15,
   "metadata": {
    "editable": true
   },
   "outputs": [
    {
     "name": "stdout",
     "output_type": "stream",
     "text": [
      "{\"num_songs\": 1, \"artist_id\": \"AR5KOSW1187FB35FF4\", \"artist_latitude\": 49.80388, \"artist_longitude\": 15.47491, \"artist_location\": \"Dubai UAE\", \"artist_name\": \"Elena\", \"song_id\": \"SOZCTXZ12AB0182364\", \"title\": \"Setanta matins\", \"duration\": 269.58322, \"year\": 0}"
     ]
    }
   ],
   "source": [
    "%cat song_data/A/A/C/TRAACCG128F92E8A55.json"
   ]
  },
  {
   "cell_type": "code",
   "execution_count": 17,
   "metadata": {
    "editable": true
   },
   "outputs": [],
   "source": [
    "df = spark.read.json(\"song_data/A/A/C/TRAACCG128F92E8A55.json\")"
   ]
  },
  {
   "cell_type": "code",
   "execution_count": 18,
   "metadata": {
    "editable": true
   },
   "outputs": [
    {
     "name": "stdout",
     "output_type": "stream",
     "text": [
      "root\n",
      " |-- artist_id: string (nullable = true)\n",
      " |-- artist_latitude: double (nullable = true)\n",
      " |-- artist_location: string (nullable = true)\n",
      " |-- artist_longitude: double (nullable = true)\n",
      " |-- artist_name: string (nullable = true)\n",
      " |-- duration: double (nullable = true)\n",
      " |-- num_songs: long (nullable = true)\n",
      " |-- song_id: string (nullable = true)\n",
      " |-- title: string (nullable = true)\n",
      " |-- year: long (nullable = true)\n",
      "\n"
     ]
    }
   ],
   "source": [
    "df.printSchema()"
   ]
  },
  {
   "cell_type": "code",
   "execution_count": 25,
   "metadata": {
    "editable": true
   },
   "outputs": [],
   "source": [
    "df = spark.read.json(\"song_data/A/A/A\")"
   ]
  },
  {
   "cell_type": "code",
   "execution_count": 23,
   "metadata": {
    "editable": true
   },
   "outputs": [
    {
     "name": "stdout",
     "output_type": "stream",
     "text": [
      "TRAAAAW128F429D538.json  TRAAAFD128F92F423A.json  TRAAARJ128F9320760.json\n",
      "TRAAABD128F429CF47.json  TRAAAMO128F1481E7F.json  TRAAAVG12903CFA543.json\n",
      "TRAAADZ128F9348C2E.json  TRAAAMQ128F1460CD3.json  TRAAAVO128F93133D4.json\n",
      "TRAAAEF128F4273421.json  TRAAAPK128E0786D96.json\n"
     ]
    }
   ],
   "source": [
    "%ls song_data/A/A/A/"
   ]
  },
  {
   "cell_type": "code",
   "execution_count": 27,
   "metadata": {
    "editable": true
   },
   "outputs": [],
   "source": [
    "schema = df.schema"
   ]
  },
  {
   "cell_type": "code",
   "execution_count": 29,
   "metadata": {
    "editable": true
   },
   "outputs": [],
   "source": [
    "df2= spark.read.json(\"song_data/A/\", schema=schema)"
   ]
  },
  {
   "cell_type": "code",
   "execution_count": 31,
   "metadata": {
    "editable": true
   },
   "outputs": [
    {
     "name": "stdout",
     "output_type": "stream",
     "text": [
      "+---------+---------------+---------------+----------------+-----------+--------+---------+-------+-----+----+\n",
      "|artist_id|artist_latitude|artist_location|artist_longitude|artist_name|duration|num_songs|song_id|title|year|\n",
      "+---------+---------------+---------------+----------------+-----------+--------+---------+-------+-----+----+\n",
      "+---------+---------------+---------------+----------------+-----------+--------+---------+-------+-----+----+\n",
      "\n"
     ]
    }
   ],
   "source": [
    "df2.show(5)"
   ]
  },
  {
   "cell_type": "code",
   "execution_count": 32,
   "metadata": {
    "editable": true
   },
   "outputs": [
    {
     "data": {
      "text/plain": [
       "11"
      ]
     },
     "execution_count": 32,
     "metadata": {},
     "output_type": "execute_result"
    }
   ],
   "source": [
    "df.count()"
   ]
  },
  {
   "cell_type": "code",
   "execution_count": 38,
   "metadata": {
    "editable": true
   },
   "outputs": [],
   "source": [
    "import org.apache.hadoop.fs as hadoop_fs"
   ]
  },
  {
   "cell_type": "code",
   "execution_count": 43,
   "metadata": {
    "editable": true
   },
   "outputs": [],
   "source": [
    "df3 = spark.read.json(\"song_data/A/A/{A,B,C}\")"
   ]
  },
  {
   "cell_type": "code",
   "execution_count": 44,
   "metadata": {
    "editable": true
   },
   "outputs": [
    {
     "data": {
      "text/plain": [
       "36"
      ]
     },
     "execution_count": 44,
     "metadata": {},
     "output_type": "execute_result"
    }
   ],
   "source": [
    "df3.count()"
   ]
  },
  {
   "cell_type": "code",
   "execution_count": 45,
   "metadata": {
    "editable": true
   },
   "outputs": [],
   "source": [
    "df4 = spark.read.json(\"song_data/A/{A,B}/{A,B,C}\")"
   ]
  },
  {
   "cell_type": "code",
   "execution_count": 46,
   "metadata": {
    "editable": true
   },
   "outputs": [
    {
     "data": {
      "text/plain": [
       "71"
      ]
     },
     "execution_count": 46,
     "metadata": {},
     "output_type": "execute_result"
    }
   ],
   "source": [
    "df4.count()"
   ]
  },
  {
   "cell_type": "code",
   "execution_count": 47,
   "metadata": {
    "editable": true
   },
   "outputs": [],
   "source": [
    "df5 = spark.read.json(\"song_data/{A,B,C}/{A,B,C}/{A,B,C}\")"
   ]
  },
  {
   "cell_type": "code",
   "execution_count": 48,
   "metadata": {
    "editable": true
   },
   "outputs": [
    {
     "data": {
      "text/plain": [
       "71"
      ]
     },
     "execution_count": 48,
     "metadata": {},
     "output_type": "execute_result"
    }
   ],
   "source": [
    "df5.count()"
   ]
  },
  {
   "cell_type": "code",
   "execution_count": 54,
   "metadata": {
    "editable": true
   },
   "outputs": [],
   "source": [
    "import os\n",
    "import re"
   ]
  },
  {
   "cell_type": "code",
   "execution_count": 61,
   "metadata": {
    "editable": true
   },
   "outputs": [
    {
     "name": "stdout",
     "output_type": "stream",
     "text": [
      "song_data/.DS_Store\n",
      "song_data/A/.DS_Store\n",
      "song_data/A/A/.DS_Store\n",
      "MATCH\tsong_data/A/A/A/TRAAAAW128F429D538.json\n",
      "MATCH\tsong_data/A/A/A/TRAAAVG12903CFA543.json\n",
      "MATCH\tsong_data/A/A/A/TRAAARJ128F9320760.json\n",
      "MATCH\tsong_data/A/A/A/TRAAAPK128E0786D96.json\n",
      "MATCH\tsong_data/A/A/A/TRAAABD128F429CF47.json\n",
      "MATCH\tsong_data/A/A/A/TRAAAMO128F1481E7F.json\n",
      "MATCH\tsong_data/A/A/A/TRAAAMQ128F1460CD3.json\n",
      "MATCH\tsong_data/A/A/A/TRAAAVO128F93133D4.json\n",
      "MATCH\tsong_data/A/A/A/TRAAAEF128F4273421.json\n",
      "MATCH\tsong_data/A/A/A/TRAAAFD128F92F423A.json\n",
      "MATCH\tsong_data/A/A/A/TRAAADZ128F9348C2E.json\n",
      "MATCH\tsong_data/A/A/B/TRAABNV128F425CEE1.json\n",
      "MATCH\tsong_data/A/A/B/TRAABRB128F9306DD5.json\n",
      "MATCH\tsong_data/A/A/B/TRAABLR128F423B7E3.json\n",
      "MATCH\tsong_data/A/A/B/TRAABDL12903CAABBA.json\n",
      "MATCH\tsong_data/A/A/B/TRAABJL12903CDCF1A.json\n",
      "MATCH\tsong_data/A/A/B/TRAABVM128F92CA9DC.json\n",
      "MATCH\tsong_data/A/A/B/TRAABYN12903CFD305.json\n",
      "MATCH\tsong_data/A/A/B/TRAABXG128F9318EBD.json\n",
      "MATCH\tsong_data/A/A/B/TRAABCL128F4286650.json\n",
      "MATCH\tsong_data/A/A/B/TRAABYW128F4244559.json\n",
      "MATCH\tsong_data/A/A/B/TRAABJV128F1460C49.json\n",
      "MATCH\tsong_data/A/A/C/TRAACVS128E078BE39.json\n",
      "MATCH\tsong_data/A/A/C/TRAACPE128F421C1B9.json\n",
      "MATCH\tsong_data/A/A/C/TRAACLV128F427E123.json\n",
      "MATCH\tsong_data/A/A/C/TRAACER128F4290F96.json\n",
      "MATCH\tsong_data/A/A/C/TRAACTB12903CAAF15.json\n",
      "MATCH\tsong_data/A/A/C/TRAACFV128F935E50B.json\n",
      "MATCH\tsong_data/A/A/C/TRAACIW12903CC0F6D.json\n",
      "MATCH\tsong_data/A/A/C/TRAACOW128F933E35F.json\n",
      "MATCH\tsong_data/A/A/C/TRAACHN128F1489601.json\n",
      "MATCH\tsong_data/A/A/C/TRAACCG128F92E8A55.json\n",
      "MATCH\tsong_data/A/A/C/TRAACQT128F9331780.json\n",
      "MATCH\tsong_data/A/A/C/TRAACNS128F14A2DF5.json\n",
      "MATCH\tsong_data/A/A/C/TRAACSL128F93462F4.json\n",
      "MATCH\tsong_data/A/A/C/TRAACZK128F4243829.json\n",
      "song_data/A/B/.DS_Store\n",
      "MATCH\tsong_data/A/B/A/TRABAIO128F42938F9.json\n",
      "MATCH\tsong_data/A/B/A/TRABAWW128F4250A31.json\n",
      "MATCH\tsong_data/A/B/A/TRABAZH128F930419A.json\n",
      "MATCH\tsong_data/A/B/A/TRABAVQ12903CBF7E0.json\n",
      "MATCH\tsong_data/A/B/A/TRABAXR128F426515F.json\n",
      "MATCH\tsong_data/A/B/A/TRABAXL128F424FC50.json\n",
      "MATCH\tsong_data/A/B/A/TRABAFJ128F42AF24E.json\n",
      "MATCH\tsong_data/A/B/A/TRABAXV128F92F6AE3.json\n",
      "MATCH\tsong_data/A/B/A/TRABACN128F425B784.json\n",
      "MATCH\tsong_data/A/B/A/TRABATO128F42627E9.json\n",
      "MATCH\tsong_data/A/B/A/TRABAFP128F931E9A1.json\n",
      "MATCH\tsong_data/A/B/B/TRABBVJ128F92F7EAA.json\n",
      "MATCH\tsong_data/A/B/B/TRABBXU128F92FEF48.json\n",
      "MATCH\tsong_data/A/B/B/TRABBAM128F429D223.json\n",
      "MATCH\tsong_data/A/B/B/TRABBZN12903CD9297.json\n",
      "MATCH\tsong_data/A/B/B/TRABBNP128F932546F.json\n",
      "MATCH\tsong_data/A/B/B/TRABBOR128F4286200.json\n",
      "MATCH\tsong_data/A/B/B/TRABBOP128F931B50D.json\n",
      "MATCH\tsong_data/A/B/B/TRABBLU128F93349CF.json\n",
      "MATCH\tsong_data/A/B/B/TRABBBV128F42967D7.json\n",
      "MATCH\tsong_data/A/B/B/TRABBJE12903CDB442.json\n",
      "MATCH\tsong_data/A/B/B/TRABBKX128F4285205.json\n",
      "MATCH\tsong_data/A/B/B/TRABBTA128F933D304.json\n",
      "MATCH\tsong_data/A/B/C/TRABCEI128F424C983.json\n",
      "MATCH\tsong_data/A/B/C/TRABCUQ128E0783E2B.json\n",
      "MATCH\tsong_data/A/B/C/TRABCTK128F934B224.json\n",
      "MATCH\tsong_data/A/B/C/TRABCIX128F4265903.json\n",
      "MATCH\tsong_data/A/B/C/TRABCEC128F426456E.json\n",
      "MATCH\tsong_data/A/B/C/TRABCPZ128F4275C32.json\n",
      "MATCH\tsong_data/A/B/C/TRABCXB128F4286BD3.json\n",
      "MATCH\tsong_data/A/B/C/TRABCAJ12903CDFCC2.json\n",
      "MATCH\tsong_data/A/B/C/TRABCFL128F149BB0D.json\n",
      "MATCH\tsong_data/A/B/C/TRABCKL128F423A778.json\n",
      "MATCH\tsong_data/A/B/C/TRABCRU128F423F449.json\n",
      "MATCH\tsong_data/A/B/C/TRABCYE128F934CE1D.json\n",
      "71\n"
     ]
    }
   ],
   "source": [
    "count=0\n",
    "for dirpath, dirnames, filenames in os.walk(\"song_data/\"):\n",
    "    for filename in filenames :\n",
    "        fi = os.path.join(dirpath, filename)\n",
    "        if re.match(\".*json\", filename):\n",
    "            count += 1\n",
    "            print(\"MATCH\", end = \"\\t\")\n",
    "        print(fi)\n",
    "            \n",
    "print(count)"
   ]
  },
  {
   "cell_type": "code",
   "execution_count": 51,
   "metadata": {
    "editable": true
   },
   "outputs": [],
   "source": [
    "import glob"
   ]
  },
  {
   "cell_type": "code",
   "execution_count": 52,
   "metadata": {
    "editable": true
   },
   "outputs": [
    {
     "data": {
      "text/plain": [
       "[]"
      ]
     },
     "execution_count": 52,
     "metadata": {},
     "output_type": "execute_result"
    }
   ],
   "source": [
    "glob.glob(\"song_data/*json\")"
   ]
  },
  {
   "cell_type": "code",
   "execution_count": null,
   "metadata": {
    "editable": true
   },
   "outputs": [],
   "source": []
  }
 ],
 "metadata": {
  "kernelspec": {
   "display_name": "Python 3",
   "language": "python",
   "name": "python3"
  },
  "language_info": {
   "codemirror_mode": {
    "name": "ipython",
    "version": 3
   },
   "file_extension": ".py",
   "mimetype": "text/x-python",
   "name": "python",
   "nbconvert_exporter": "python",
   "pygments_lexer": "ipython3",
   "version": "3.6.3"
  }
 },
 "nbformat": 4,
 "nbformat_minor": 4
}
