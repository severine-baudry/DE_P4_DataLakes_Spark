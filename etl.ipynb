{
 "cells": [
  {
   "cell_type": "code",
   "execution_count": 1,
   "metadata": {
    "editable": true
   },
   "outputs": [],
   "source": [
    "from pyspark.sql import SparkSession\n",
    "import os\n",
    "import configparser"
   ]
  },
  {
   "cell_type": "code",
   "execution_count": 2,
   "metadata": {
    "editable": true
   },
   "outputs": [],
   "source": [
    "spark = SparkSession.builder\\\n",
    "                     .config(\"spark.jars.packages\",\"org.apache.hadoop:hadoop-aws:2.7.0\")\\\n",
    "                     .getOrCreate()"
   ]
  },
  {
   "cell_type": "code",
   "execution_count": 3,
   "metadata": {
    "editable": true
   },
   "outputs": [
    {
     "name": "stdout",
     "output_type": "stream",
     "text": [
      "log-data.zip  song-data.zip\n"
     ]
    }
   ],
   "source": [
    "%ls data"
   ]
  },
  {
   "cell_type": "code",
   "execution_count": 4,
   "metadata": {
    "editable": true
   },
   "outputs": [],
   "source": [
    "#!unzip data/song-data.zip"
   ]
  },
  {
   "cell_type": "code",
   "execution_count": 5,
   "metadata": {
    "editable": true
   },
   "outputs": [
    {
     "name": "stdout",
     "output_type": "stream",
     "text": [
      "{\"num_songs\": 1, \"artist_id\": \"AR5KOSW1187FB35FF4\", \"artist_latitude\": 49.80388, \"artist_longitude\": 15.47491, \"artist_location\": \"Dubai UAE\", \"artist_name\": \"Elena\", \"song_id\": \"SOZCTXZ12AB0182364\", \"title\": \"Setanta matins\", \"duration\": 269.58322, \"year\": 0}"
     ]
    }
   ],
   "source": [
    "%cat song_data/A/A/C/TRAACCG128F92E8A55.json"
   ]
  },
  {
   "cell_type": "code",
   "execution_count": 6,
   "metadata": {
    "editable": true
   },
   "outputs": [],
   "source": [
    "df = spark.read.json(\"song_data/A/A/C/TRAACCG128F92E8A55.json\")"
   ]
  },
  {
   "cell_type": "code",
   "execution_count": 7,
   "metadata": {
    "editable": true
   },
   "outputs": [
    {
     "name": "stdout",
     "output_type": "stream",
     "text": [
      "root\n",
      " |-- artist_id: string (nullable = true)\n",
      " |-- artist_latitude: double (nullable = true)\n",
      " |-- artist_location: string (nullable = true)\n",
      " |-- artist_longitude: double (nullable = true)\n",
      " |-- artist_name: string (nullable = true)\n",
      " |-- duration: double (nullable = true)\n",
      " |-- num_songs: long (nullable = true)\n",
      " |-- song_id: string (nullable = true)\n",
      " |-- title: string (nullable = true)\n",
      " |-- year: long (nullable = true)\n",
      "\n"
     ]
    }
   ],
   "source": [
    "df.printSchema()"
   ]
  },
  {
   "cell_type": "code",
   "execution_count": 8,
   "metadata": {
    "editable": true
   },
   "outputs": [],
   "source": [
    "df = spark.read.json(\"song_data/A/A/A\")"
   ]
  },
  {
   "cell_type": "code",
   "execution_count": 9,
   "metadata": {
    "editable": true
   },
   "outputs": [
    {
     "name": "stdout",
     "output_type": "stream",
     "text": [
      "TRAAAAW128F429D538.json  TRAAAFD128F92F423A.json  TRAAARJ128F9320760.json\n",
      "TRAAABD128F429CF47.json  TRAAAMO128F1481E7F.json  TRAAAVG12903CFA543.json\n",
      "TRAAADZ128F9348C2E.json  TRAAAMQ128F1460CD3.json  TRAAAVO128F93133D4.json\n",
      "TRAAAEF128F4273421.json  TRAAAPK128E0786D96.json\n"
     ]
    }
   ],
   "source": [
    "%ls song_data/A/A/A/"
   ]
  },
  {
   "cell_type": "code",
   "execution_count": 10,
   "metadata": {
    "editable": true
   },
   "outputs": [],
   "source": [
    "df5 = spark.read.json(\"song_data/{A,B,C}/{A,B,C}/{A,B,C}\")"
   ]
  },
  {
   "cell_type": "code",
   "execution_count": 11,
   "metadata": {
    "editable": true
   },
   "outputs": [
    {
     "data": {
      "text/plain": [
       "71"
      ]
     },
     "execution_count": 11,
     "metadata": {},
     "output_type": "execute_result"
    }
   ],
   "source": [
    "df5.count()"
   ]
  },
  {
   "cell_type": "code",
   "execution_count": 12,
   "metadata": {
    "editable": true
   },
   "outputs": [
    {
     "name": "stdout",
     "output_type": "stream",
     "text": [
      "root\n",
      " |-- artist_id: string (nullable = true)\n",
      " |-- artist_latitude: double (nullable = true)\n",
      " |-- artist_location: string (nullable = true)\n",
      " |-- artist_longitude: double (nullable = true)\n",
      " |-- artist_name: string (nullable = true)\n",
      " |-- duration: double (nullable = true)\n",
      " |-- num_songs: long (nullable = true)\n",
      " |-- song_id: string (nullable = true)\n",
      " |-- title: string (nullable = true)\n",
      " |-- year: long (nullable = true)\n",
      "\n"
     ]
    }
   ],
   "source": [
    "df5.printSchema()"
   ]
  },
  {
   "cell_type": "code",
   "execution_count": 13,
   "metadata": {
    "editable": true
   },
   "outputs": [
    {
     "data": {
      "text/plain": [
       "pyspark.sql.dataframe.DataFrame"
      ]
     },
     "execution_count": 13,
     "metadata": {},
     "output_type": "execute_result"
    }
   ],
   "source": [
    "type(df5)"
   ]
  },
  {
   "cell_type": "code",
   "execution_count": 14,
   "metadata": {
    "editable": true
   },
   "outputs": [],
   "source": [
    "df_artists = df5.select(\"artist_id\", \n",
    "                        \"artist_name\",\n",
    "                        \"artist_location\",\n",
    "                        \"artist_latitude\",\n",
    "                        \"artist_longitude\").\\\n",
    "        groupBy(\"artist_id\", \"artist_name\", \"artist_location\", \n",
    "                \"artist_latitude\", \"artist_longitude\")\n"
   ]
  },
  {
   "cell_type": "code",
   "execution_count": 15,
   "metadata": {
    "editable": true
   },
   "outputs": [
    {
     "name": "stdout",
     "output_type": "stream",
     "text": [
      "+------------------+--------------------+--------------------+---------------+----------------+-----+\n",
      "|         artist_id|         artist_name|     artist_location|artist_latitude|artist_longitude|count|\n",
      "+------------------+--------------------+--------------------+---------------+----------------+-----+\n",
      "|ARPBNLO1187FB3D52F|            Tiny Tim|        New York, NY|       40.71455|       -74.00712|    1|\n",
      "|ARBEBBY1187B9B43DB|           Tom Petty|     Gainesville, FL|           null|            null|    1|\n",
      "|AR0IAWL1187B9A96D0|        Danilo Perez|              Panama|         8.4177|       -80.11278|    1|\n",
      "|ARMBR4Y1187B9990EB|        David Martin|     California - SF|       37.77916|      -122.42005|    1|\n",
      "|ARD0S291187B9B7BF5|             Rated R|                Ohio|           null|            null|    1|\n",
      "|AR0RCMP1187FB3F427|    Billie Jo Spears|        Beaumont, TX|       30.08615|       -94.10158|    1|\n",
      "|ARKRRTF1187B9984DA|    Sonora Santanera|                    |           null|            null|    1|\n",
      "|ARHHO3O1187B989413|           Bob Azzam|                    |           null|            null|    1|\n",
      "|ARJIE2Y1187B994AB7|         Line Renaud|                    |           null|            null|    1|\n",
      "|ARGIWFO1187B9B55B7|      Five Bolt Main|                    |           null|            null|    1|\n",
      "|AROUOZZ1187B9ABE51|         Willie Bobo|New York, NY [Spa...|       40.79195|       -73.94512|    1|\n",
      "|AR47JEX1187B995D81|        SUE THOMPSON|          Nevada, MO|       37.83721|       -94.35868|    1|\n",
      "|ARDR4AC1187FB371A1|Montserrat Caball...|                    |           null|            null|    1|\n",
      "|ARYKCQI1187FB3B18F|               Tesla|                    |           null|            null|    1|\n",
      "|ARL7K851187B99ACD2|           Andy Andy|                    |           null|            null|    1|\n",
      "|ARNPAGP1241B9C7FD4|           lextrical|                    |           null|            null|    1|\n",
      "|ARXR32B1187FB57099|                 Gob|                    |           null|            null|    1|\n",
      "|ARQ9BO41187FB5CF1F|          John Davis|        Pennsylvania|       40.99471|       -77.60454|    1|\n",
      "|AR1ZHYZ1187FB3C717|       Faiz Ali Faiz|                    |           null|            null|    1|\n",
      "|ARMAC4T1187FB3FA4C|The Dillinger Esc...|   Morris Plains, NJ|       40.82624|       -74.47995|    1|\n",
      "+------------------+--------------------+--------------------+---------------+----------------+-----+\n",
      "only showing top 20 rows\n",
      "\n"
     ]
    }
   ],
   "source": [
    "df_artists.count().show()"
   ]
  },
  {
   "cell_type": "code",
   "execution_count": 16,
   "metadata": {
    "editable": true
   },
   "outputs": [],
   "source": [
    "df_artists = df5.select(\"artist_id\", \n",
    "                        \"artist_name\",\n",
    "                        \"artist_location\",\n",
    "                        \"artist_latitude\",\n",
    "                        \"artist_longitude\").\\\n",
    "        distinct()"
   ]
  },
  {
   "cell_type": "code",
   "execution_count": 17,
   "metadata": {
    "editable": true
   },
   "outputs": [
    {
     "name": "stdout",
     "output_type": "stream",
     "text": [
      "root\n",
      " |-- artist_id: string (nullable = true)\n",
      " |-- artist_name: string (nullable = true)\n",
      " |-- artist_location: string (nullable = true)\n",
      " |-- artist_latitude: double (nullable = true)\n",
      " |-- artist_longitude: double (nullable = true)\n",
      "\n"
     ]
    }
   ],
   "source": [
    "df_artists.printSchema()"
   ]
  },
  {
   "cell_type": "code",
   "execution_count": 18,
   "metadata": {
    "editable": true
   },
   "outputs": [
    {
     "name": "stdout",
     "output_type": "stream",
     "text": [
      "+------------------+--------------------+--------------------+---------------+----------------+\n",
      "|         artist_id|         artist_name|     artist_location|artist_latitude|artist_longitude|\n",
      "+------------------+--------------------+--------------------+---------------+----------------+\n",
      "|AR3JMC51187B9AE49D|     Backstreet Boys|         Orlando, FL|       28.53823|       -81.37739|\n",
      "|AR0IAWL1187B9A96D0|        Danilo Perez|              Panama|         8.4177|       -80.11278|\n",
      "|ARWB3G61187FB49404|         Steve Morse|      Hamilton, Ohio|           null|            null|\n",
      "|AR47JEX1187B995D81|        SUE THOMPSON|          Nevada, MO|       37.83721|       -94.35868|\n",
      "|ARHHO3O1187B989413|           Bob Azzam|                    |           null|            null|\n",
      "|ARAGB2O1187FB3A161|Pucho & His Latin...|                    |           null|            null|\n",
      "|AREBBGV1187FB523D2|Mike Jones (Featu...|         Houston, TX|           null|            null|\n",
      "|ARGSAFR1269FB35070|          Blingtones|                    |           null|            null|\n",
      "|AROUOZZ1187B9ABE51|         Willie Bobo|New York, NY [Spa...|       40.79195|       -73.94512|\n",
      "|AR0RCMP1187FB3F427|    Billie Jo Spears|        Beaumont, TX|       30.08615|       -94.10158|\n",
      "+------------------+--------------------+--------------------+---------------+----------------+\n",
      "only showing top 10 rows\n",
      "\n"
     ]
    }
   ],
   "source": [
    "df_artists.show(10)"
   ]
  },
  {
   "cell_type": "code",
   "execution_count": 19,
   "metadata": {
    "editable": true
   },
   "outputs": [],
   "source": [
    "#song_id, title, artist_id, year, duration\n",
    "df_songs = df5.select(\"song_id\", \n",
    "                      \"title\", \n",
    "                      \"artist_id\", \n",
    "                      \"year\", \n",
    "                      \"duration\").\\\n",
    "    distinct()"
   ]
  },
  {
   "cell_type": "code",
   "execution_count": 20,
   "metadata": {
    "editable": true
   },
   "outputs": [
    {
     "name": "stdout",
     "output_type": "stream",
     "text": [
      "+------------------+--------------------+------------------+----+---------+\n",
      "|           song_id|               title|         artist_id|year| duration|\n",
      "+------------------+--------------------+------------------+----+---------+\n",
      "|SOGOSOV12AF72A285E|   ¿Dónde va Chichi?|ARGUVEV1187B98BA17|1997|313.12934|\n",
      "|SOTTDKS12AB018D69B|It Wont Be Christmas|ARMBR4Y1187B9990EB|   0|241.47546|\n",
      "|SOBBUGU12A8C13E95D|Setting Fire to S...|ARMAC4T1187FB3FA4C|2004|207.77751|\n",
      "|SOIAZJW12AB01853F1|          Pink World|AR8ZCNI1187B9A069B|1984|269.81832|\n",
      "|SONYPOM12A8C13B2D7|I Think My Wife I...|ARDNS031187B9924F0|2005|186.48771|\n",
      "|SOYMRWW12A6D4FAB14|The Moon And I (O...|ARKFYS91187B98E58F|   0| 267.7024|\n",
      "|SOAOIBZ12AB01815BE|I Hold Your Hand ...|ARPBNLO1187FB3D52F|2000| 43.36281|\n",
      "|SOBCOSW12A8C13D398|  Rumba De Barcelona|AR7SMBG1187B9B9066|   0|218.38322|\n",
      "|SOWTBJW12AC468AC6E|Broken-Down Merry...|ARQGYP71187FB44566|   0|151.84934|\n",
      "|SOQHXMF12AB0182363|     Young Boy Blues|ARGSJW91187B9B1D6B|   0|218.77506|\n",
      "|SOGDBUF12A8C140FAA|               Intro|AR558FS1187FB45658|2003| 75.67628|\n",
      "|SOTCKKY12AB018A141|Sonnerie lalaleul...|ARGSAFR1269FB35070|   0| 29.54404|\n",
      "|SOZVMJI12AB01808AF|     Synthetic Dream|ARNPAGP1241B9C7FD4|   0|165.69424|\n",
      "|SOBBXLX12A58A79DDA|Erica (2005 Digit...|AREDBBQ1187B98AFF5|   0|138.63138|\n",
      "|SOHKNRJ12A6701D1F8|        Drop of Rain|AR10USD1187B99F3F1|   0|189.57016|\n",
      "|SOMJBYD12A6D4F8557|Keepin It Real (S...|ARD0S291187B9B7BF5|   0|114.78159|\n",
      "|SOLLHMX12AB01846DC|   The Emperor Falls|AR1Y2PT1187FB5B9CE|   0|484.62322|\n",
      "|SOBZBAZ12A6D4F8742|      Spanish Grease|AROUOZZ1187B9ABE51|1997|168.25424|\n",
      "|SOINLJW12A8C13314C|       City Slickers|AR8IEZO1187B99055E|2008|149.86404|\n",
      "|SOSLAVG12A8C13397F|         Den Pai Alo|AROGWRA122988FEE45|   0|243.82649|\n",
      "+------------------+--------------------+------------------+----+---------+\n",
      "only showing top 20 rows\n",
      "\n"
     ]
    }
   ],
   "source": [
    "df_songs.show()"
   ]
  },
  {
   "cell_type": "markdown",
   "metadata": {
    "editable": true
   },
   "source": [
    "## Write "
   ]
  },
  {
   "cell_type": "code",
   "execution_count": 21,
   "metadata": {
    "editable": true
   },
   "outputs": [
    {
     "name": "stdout",
     "output_type": "stream",
     "text": [
      "mkdir: cannot create directory ‘OUT’: File exists\n"
     ]
    }
   ],
   "source": [
    "!mkdir OUT"
   ]
  },
  {
   "cell_type": "code",
   "execution_count": 22,
   "metadata": {
    "editable": true
   },
   "outputs": [],
   "source": [
    "df_songs.write.partitionBy(\"year\", \"artist_id\").mode(\"overwrite\").parquet(\"./OUT/songs.parquet\")"
   ]
  },
  {
   "cell_type": "code",
   "execution_count": 23,
   "metadata": {
    "editable": true
   },
   "outputs": [
    {
     "name": "stdout",
     "output_type": "stream",
     "text": [
      "part-00059-9f3bd952-49fc-4f8e-93d7-7f72d1f2bc34.c000.snappy.parquet\n"
     ]
    }
   ],
   "source": [
    "!ls OUT/songs.parquet/year\\=1987/artist_id\\=ARD842G1187B997376"
   ]
  },
  {
   "cell_type": "markdown",
   "metadata": {
    "editable": true
   },
   "source": [
    "# log data"
   ]
  },
  {
   "cell_type": "code",
   "execution_count": 24,
   "metadata": {
    "editable": true
   },
   "outputs": [],
   "source": [
    "#!mkdir log_data\n",
    "#!cd ./log_data; unzip ../data/log-data.zip\n",
    "#####!mv 2018-11*json log_data"
   ]
  },
  {
   "cell_type": "code",
   "execution_count": 25,
   "metadata": {
    "editable": true
   },
   "outputs": [],
   "source": [
    "df_log = spark.read.json(\"log_data/\")"
   ]
  },
  {
   "cell_type": "code",
   "execution_count": 26,
   "metadata": {
    "editable": true
   },
   "outputs": [
    {
     "name": "stdout",
     "output_type": "stream",
     "text": [
      "root\n",
      " |-- artist: string (nullable = true)\n",
      " |-- auth: string (nullable = true)\n",
      " |-- firstName: string (nullable = true)\n",
      " |-- gender: string (nullable = true)\n",
      " |-- itemInSession: long (nullable = true)\n",
      " |-- lastName: string (nullable = true)\n",
      " |-- length: double (nullable = true)\n",
      " |-- level: string (nullable = true)\n",
      " |-- location: string (nullable = true)\n",
      " |-- method: string (nullable = true)\n",
      " |-- page: string (nullable = true)\n",
      " |-- registration: double (nullable = true)\n",
      " |-- sessionId: long (nullable = true)\n",
      " |-- song: string (nullable = true)\n",
      " |-- status: long (nullable = true)\n",
      " |-- ts: long (nullable = true)\n",
      " |-- userAgent: string (nullable = true)\n",
      " |-- userId: string (nullable = true)\n",
      "\n"
     ]
    }
   ],
   "source": [
    "df_log.printSchema()"
   ]
  },
  {
   "cell_type": "code",
   "execution_count": 27,
   "metadata": {
    "editable": true
   },
   "outputs": [],
   "source": [
    "# user_id, first_name, last_name, gender, level\n",
    "df_users = df_log.select(\"userId\", \n",
    "                         \"firstName\", \n",
    "                         \"lastName\", \n",
    "                         \"gender\", \n",
    "                         \"level\")\\\n",
    "                    .distinct()\\\n",
    "                    .orderBy(\"userId\")"
   ]
  },
  {
   "cell_type": "code",
   "execution_count": 28,
   "metadata": {
    "editable": true
   },
   "outputs": [
    {
     "name": "stdout",
     "output_type": "stream",
     "text": [
      "root\n",
      " |-- userId: string (nullable = true)\n",
      " |-- firstName: string (nullable = true)\n",
      " |-- lastName: string (nullable = true)\n",
      " |-- gender: string (nullable = true)\n",
      " |-- level: string (nullable = true)\n",
      "\n"
     ]
    }
   ],
   "source": [
    "df_users.printSchema()"
   ]
  },
  {
   "cell_type": "code",
   "execution_count": 29,
   "metadata": {
    "editable": true
   },
   "outputs": [
    {
     "name": "stdout",
     "output_type": "stream",
     "text": [
      "+------+---------+--------+------+-----+\n",
      "|userId|firstName|lastName|gender|level|\n",
      "+------+---------+--------+------+-----+\n",
      "|      |     null|    null|  null| paid|\n",
      "|      |     null|    null|  null| free|\n",
      "|    10|   Sylvie|    Cruz|     F| free|\n",
      "|   100|    Adler| Barrera|     M| free|\n",
      "|   101|   Jayden|     Fox|     M| free|\n",
      "|    11|Christian|  Porter|     F| free|\n",
      "|    12|   Austin| Rosales|     M| free|\n",
      "|    13|      Ava|Robinson|     F| free|\n",
      "|    14| Theodore|  Harris|     M| free|\n",
      "|    15|     Lily|    Koch|     F| free|\n",
      "|    15|     Lily|    Koch|     F| paid|\n",
      "|    16|    Rylan|  George|     M| free|\n",
      "|    16|    Rylan|  George|     M| paid|\n",
      "|    17| Makinley|   Jones|     F| free|\n",
      "|    18|    Jacob|  Rogers|     M| free|\n",
      "|    19|  Zachary|  Thomas|     M| free|\n",
      "|     2|  Jizelle|Benjamin|     F| free|\n",
      "|    20|    Aiden| Ramirez|     M| paid|\n",
      "|    21|  Preston| Sanders|     M| free|\n",
      "|    22|     Sean|  Wilson|     F| free|\n",
      "+------+---------+--------+------+-----+\n",
      "only showing top 20 rows\n",
      "\n"
     ]
    }
   ],
   "source": [
    "df_users.show()"
   ]
  },
  {
   "cell_type": "code",
   "execution_count": 30,
   "metadata": {
    "editable": true
   },
   "outputs": [
    {
     "name": "stdout",
     "output_type": "stream",
     "text": [
      "root\n",
      " |-- artist: string (nullable = true)\n",
      " |-- auth: string (nullable = true)\n",
      " |-- firstName: string (nullable = true)\n",
      " |-- gender: string (nullable = true)\n",
      " |-- itemInSession: long (nullable = true)\n",
      " |-- lastName: string (nullable = true)\n",
      " |-- length: double (nullable = true)\n",
      " |-- level: string (nullable = true)\n",
      " |-- location: string (nullable = true)\n",
      " |-- method: string (nullable = true)\n",
      " |-- page: string (nullable = true)\n",
      " |-- registration: double (nullable = true)\n",
      " |-- sessionId: long (nullable = true)\n",
      " |-- song: string (nullable = true)\n",
      " |-- status: long (nullable = true)\n",
      " |-- ts: long (nullable = true)\n",
      " |-- userAgent: string (nullable = true)\n",
      " |-- userId: string (nullable = true)\n",
      "\n"
     ]
    }
   ],
   "source": [
    "#songplay_id, start_time, user_id, level, song_id, artist_id, session_id, location, user_agent\n",
    "df_log.printSchema()\n"
   ]
  },
  {
   "cell_type": "code",
   "execution_count": 31,
   "metadata": {
    "editable": true
   },
   "outputs": [
    {
     "name": "stdout",
     "output_type": "stream",
     "text": [
      "+-------------+\n",
      "|           ts|\n",
      "+-------------+\n",
      "|1542241826796|\n",
      "|1542242481796|\n",
      "|1542242741796|\n",
      "|1542247071796|\n",
      "|1542252577796|\n",
      "|1542253449796|\n",
      "|1542253460796|\n",
      "|1542260074796|\n",
      "|1542260277796|\n",
      "|1542260935796|\n",
      "+-------------+\n",
      "only showing top 10 rows\n",
      "\n"
     ]
    }
   ],
   "source": [
    "df_log.select(\"ts\").show(10)"
   ]
  },
  {
   "cell_type": "code",
   "execution_count": 32,
   "metadata": {
    "editable": true
   },
   "outputs": [],
   "source": [
    "import pyspark.sql.functions as F\n",
    "import datetime"
   ]
  },
  {
   "cell_type": "code",
   "execution_count": 33,
   "metadata": {
    "editable": true
   },
   "outputs": [],
   "source": [
    "#ts_to_date = F.udf(lambda ts : F.from_unixtime(F.floor( ts/1000 ) ) )\n",
    "#ts_to_date = F.udf(lambda ts : F.from_unixtime(ts ) )\n",
    "ts_to_date = F.udf(lambda ts : datetime.datetime.fromtimestamp(ts/1000.))"
   ]
  },
  {
   "cell_type": "code",
   "execution_count": 34,
   "metadata": {
    "editable": true
   },
   "outputs": [],
   "source": [
    "df_log = df_log.withColumn(\"tsdate\", ts_to_date(df_log.ts))"
   ]
  },
  {
   "cell_type": "code",
   "execution_count": 35,
   "metadata": {
    "editable": true
   },
   "outputs": [
    {
     "data": {
      "text/html": [
       "<div>\n",
       "<style scoped>\n",
       "    .dataframe tbody tr th:only-of-type {\n",
       "        vertical-align: middle;\n",
       "    }\n",
       "\n",
       "    .dataframe tbody tr th {\n",
       "        vertical-align: top;\n",
       "    }\n",
       "\n",
       "    .dataframe thead th {\n",
       "        text-align: right;\n",
       "    }\n",
       "</style>\n",
       "<table border=\"1\" class=\"dataframe\">\n",
       "  <thead>\n",
       "    <tr style=\"text-align: right;\">\n",
       "      <th></th>\n",
       "      <th>ts</th>\n",
       "      <th>tsdate</th>\n",
       "    </tr>\n",
       "  </thead>\n",
       "  <tbody>\n",
       "    <tr>\n",
       "      <th>0</th>\n",
       "      <td>1542241826796</td>\n",
       "      <td>java.util.GregorianCalendar[time=?,areFieldsSe...</td>\n",
       "    </tr>\n",
       "    <tr>\n",
       "      <th>1</th>\n",
       "      <td>1542242481796</td>\n",
       "      <td>java.util.GregorianCalendar[time=?,areFieldsSe...</td>\n",
       "    </tr>\n",
       "    <tr>\n",
       "      <th>2</th>\n",
       "      <td>1542242741796</td>\n",
       "      <td>java.util.GregorianCalendar[time=?,areFieldsSe...</td>\n",
       "    </tr>\n",
       "    <tr>\n",
       "      <th>3</th>\n",
       "      <td>1542247071796</td>\n",
       "      <td>java.util.GregorianCalendar[time=?,areFieldsSe...</td>\n",
       "    </tr>\n",
       "    <tr>\n",
       "      <th>4</th>\n",
       "      <td>1542252577796</td>\n",
       "      <td>java.util.GregorianCalendar[time=?,areFieldsSe...</td>\n",
       "    </tr>\n",
       "    <tr>\n",
       "      <th>5</th>\n",
       "      <td>1542253449796</td>\n",
       "      <td>java.util.GregorianCalendar[time=?,areFieldsSe...</td>\n",
       "    </tr>\n",
       "    <tr>\n",
       "      <th>6</th>\n",
       "      <td>1542253460796</td>\n",
       "      <td>java.util.GregorianCalendar[time=?,areFieldsSe...</td>\n",
       "    </tr>\n",
       "    <tr>\n",
       "      <th>7</th>\n",
       "      <td>1542260074796</td>\n",
       "      <td>java.util.GregorianCalendar[time=?,areFieldsSe...</td>\n",
       "    </tr>\n",
       "    <tr>\n",
       "      <th>8</th>\n",
       "      <td>1542260277796</td>\n",
       "      <td>java.util.GregorianCalendar[time=?,areFieldsSe...</td>\n",
       "    </tr>\n",
       "    <tr>\n",
       "      <th>9</th>\n",
       "      <td>1542260935796</td>\n",
       "      <td>java.util.GregorianCalendar[time=?,areFieldsSe...</td>\n",
       "    </tr>\n",
       "  </tbody>\n",
       "</table>\n",
       "</div>"
      ],
      "text/plain": [
       "              ts                                             tsdate\n",
       "0  1542241826796  java.util.GregorianCalendar[time=?,areFieldsSe...\n",
       "1  1542242481796  java.util.GregorianCalendar[time=?,areFieldsSe...\n",
       "2  1542242741796  java.util.GregorianCalendar[time=?,areFieldsSe...\n",
       "3  1542247071796  java.util.GregorianCalendar[time=?,areFieldsSe...\n",
       "4  1542252577796  java.util.GregorianCalendar[time=?,areFieldsSe...\n",
       "5  1542253449796  java.util.GregorianCalendar[time=?,areFieldsSe...\n",
       "6  1542253460796  java.util.GregorianCalendar[time=?,areFieldsSe...\n",
       "7  1542260074796  java.util.GregorianCalendar[time=?,areFieldsSe...\n",
       "8  1542260277796  java.util.GregorianCalendar[time=?,areFieldsSe...\n",
       "9  1542260935796  java.util.GregorianCalendar[time=?,areFieldsSe..."
      ]
     },
     "execution_count": 35,
     "metadata": {},
     "output_type": "execute_result"
    }
   ],
   "source": [
    "df_log.select(\"ts\", \"tsdate\").limit(10).toPandas()"
   ]
  },
  {
   "cell_type": "code",
   "execution_count": 36,
   "metadata": {
    "editable": true
   },
   "outputs": [
    {
     "name": "stdout",
     "output_type": "stream",
     "text": [
      "+----+-------------+\n",
      "|year|           ts|\n",
      "+----+-------------+\n",
      "|2018|1542241826796|\n",
      "|2018|1542242481796|\n",
      "|2018|1542242741796|\n",
      "|2018|1542247071796|\n",
      "|2018|1542252577796|\n",
      "|2018|1542253449796|\n",
      "|2018|1542253460796|\n",
      "|2018|1542260074796|\n",
      "|2018|1542260277796|\n",
      "|2018|1542260935796|\n",
      "+----+-------------+\n",
      "only showing top 10 rows\n",
      "\n"
     ]
    }
   ],
   "source": [
    "df_log2 = df_log.withColumn(\"year\", F.udf(lambda x:x.year)(df_log.tsdate) ).\\\n",
    "    select(\"year\", \"ts\").show(10)"
   ]
  },
  {
   "cell_type": "code",
   "execution_count": 37,
   "metadata": {
    "editable": true
   },
   "outputs": [],
   "source": [
    "#raw_timestamp = df_log.withColumn(\"date2\", df_log.tsdate.year).select(\"date2\", \"tsdate\")"
   ]
  },
  {
   "cell_type": "code",
   "execution_count": null,
   "metadata": {
    "editable": true
   },
   "outputs": [],
   "source": []
  },
  {
   "cell_type": "code",
   "execution_count": 55,
   "metadata": {
    "editable": true
   },
   "outputs": [],
   "source": [
    "#cvt_date_2 = F.udf(lambda x : F.from_unixtime(x))\n",
    "import pyspark.sql.types as Ptype\n",
    "cvt_date_3 = F.udf(lambda x : F.from_unixtime(x/1000) )\n",
    "cvt_date_4 = F.udf(lambda x : x /1000, Ptype.FloatType())\n",
    "cvt_date_5 = F.udf(lambda x : floor(x /1000), Ptype.IntegerType())"
   ]
  },
  {
   "cell_type": "code",
   "execution_count": 60,
   "metadata": {
    "editable": true
   },
   "outputs": [
    {
     "data": {
      "text/plain": [
       "DataFrame[artist: string, auth: string, firstName: string, gender: string, itemInSession: bigint, lastName: string, length: double, level: string, location: string, method: string, page: string, registration: double, sessionId: bigint, song: string, status: bigint, ts: bigint, userAgent: string, userId: string, tsdate: string, datetime: string]"
      ]
     },
     "execution_count": 60,
     "metadata": {},
     "output_type": "execute_result"
    }
   ],
   "source": [
    "t1 = df_log.withColumn(\"datetime\", F.from_unixtime(df_log.ts/1000))\n",
    "t1"
   ]
  },
  {
   "cell_type": "code",
   "execution_count": 63,
   "metadata": {
    "editable": true
   },
   "outputs": [
    {
     "name": "stdout",
     "output_type": "stream",
     "text": [
      "+-------------------+\n",
      "|           datetime|\n",
      "+-------------------+\n",
      "|2018-11-15 00:30:26|\n",
      "|2018-11-15 00:41:21|\n",
      "|2018-11-15 00:45:41|\n",
      "|2018-11-15 01:57:51|\n",
      "|2018-11-15 03:29:37|\n",
      "|2018-11-15 03:44:09|\n",
      "|2018-11-15 03:44:20|\n",
      "|2018-11-15 05:34:34|\n",
      "|2018-11-15 05:37:57|\n",
      "|2018-11-15 05:48:55|\n",
      "+-------------------+\n",
      "only showing top 10 rows\n",
      "\n"
     ]
    }
   ],
   "source": [
    "t1.select(\"datetime\").show(10)"
   ]
  },
  {
   "cell_type": "code",
   "execution_count": null,
   "metadata": {
    "editable": true
   },
   "outputs": [],
   "source": [
    "df_log.select(\"ts\").show(5)"
   ]
  },
  {
   "cell_type": "code",
   "execution_count": null,
   "metadata": {
    "editable": true
   },
   "outputs": [],
   "source": []
  }
 ],
 "metadata": {
  "kernelspec": {
   "display_name": "Python 3",
   "language": "python",
   "name": "python3"
  },
  "language_info": {
   "codemirror_mode": {
    "name": "ipython",
    "version": 3
   },
   "file_extension": ".py",
   "mimetype": "text/x-python",
   "name": "python",
   "nbconvert_exporter": "python",
   "pygments_lexer": "ipython3",
   "version": "3.6.3"
  }
 },
 "nbformat": 4,
 "nbformat_minor": 4
}
